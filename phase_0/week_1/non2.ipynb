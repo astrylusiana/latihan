{
 "cells": [
  {
   "cell_type": "code",
   "execution_count": 3,
   "metadata": {},
   "outputs": [
    {
     "name": "stdout",
     "output_type": "stream",
     "text": [
      "hasil dari kelvin ke celcius adalah -223\n"
     ]
    },
    {
     "data": {
      "text/plain": [
       "-223"
      ]
     },
     "execution_count": 3,
     "metadata": {},
     "output_type": "execute_result"
    }
   ],
   "source": [
    "def konversi_celcius_kelvin(suhu, tipe):\n",
    "    if tipe == 'celcius': #ini untuk cek bahwa tipenya celcius\n",
    "        suhu += 273 # perhitungan untuk konversi celcius ke kelvin\n",
    "        print(f'hasil dari celcius ke kelvin adalah {suhu}')\n",
    "    elif tipe == 'kelvin':\n",
    "        suhu -= 273\n",
    "        print(f'hasil dari kelvin ke celcius adalah {suhu}')\n",
    "    return suhu #membalikkan ke suhu baru\n",
    "\n",
    "konversi_celcius_kelvin(50, 'kelvin')\n",
    "\n"
   ]
  },
  {
   "cell_type": "code",
   "execution_count": 11,
   "metadata": {},
   "outputs": [
    {
     "name": "stdout",
     "output_type": "stream",
     "text": [
      "hasil dari celcius ke farenheit adalah 572.0\n"
     ]
    }
   ],
   "source": [
    "def konversi_ke_farenheit(suhu, tipe) :\n",
    "    if tipe == 'celcius' :\n",
    "        suhu = 9/5 * suhu + 32\n",
    "    elif tipe == 'kelvin':\n",
    "        suhu = 9/5 *(suhu-273) + 32\n",
    "    print(f'hasil dari {tipe} ke farenheit adalah {suhu}')\n",
    "\n",
    "konversi_ke_farenheit(300, 'celcius')"
   ]
  },
  {
   "cell_type": "code",
   "execution_count": 13,
   "metadata": {},
   "outputs": [
    {
     "name": "stdout",
     "output_type": "stream",
     "text": [
      "hasil dari farenheit ke celcius adalah 93.33333333333334 \n"
     ]
    }
   ],
   "source": [
    "def konversi_dari_farenheit(suhu,tipe) :\n",
    "    if tipe == 'celcius' :\n",
    "        suhu = 5/9 * (suhu-32)\n",
    "    elif tipe == 'kelvin' :\n",
    "        suhu = 5/9 * (suhu-32) + 273\n",
    "    print(f'hasil dari farenheit ke {tipe} adalah {suhu} ')\n",
    "\n",
    "konversi_dari_farenheit(200, 'celcius')"
   ]
  }
 ],
 "metadata": {
  "interpreter": {
   "hash": "0ec543718309cad9c38d36950d3cbd307e42156359ab44a1b9c0c3c6c013c3a7"
  },
  "kernelspec": {
   "display_name": "Python 3.9.7 64-bit ('base': conda)",
   "language": "python",
   "name": "python3"
  },
  "language_info": {
   "codemirror_mode": {
    "name": "ipython",
    "version": 3
   },
   "file_extension": ".py",
   "mimetype": "text/x-python",
   "name": "python",
   "nbconvert_exporter": "python",
   "pygments_lexer": "ipython3",
   "version": "3.9.7"
  },
  "orig_nbformat": 4
 },
 "nbformat": 4,
 "nbformat_minor": 2
}
