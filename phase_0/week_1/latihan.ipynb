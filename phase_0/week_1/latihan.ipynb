{
 "cells": [
  {
   "cell_type": "code",
   "execution_count": 8,
   "metadata": {},
   "outputs": [],
   "source": [
    "angka = 15"
   ]
  },
  {
   "cell_type": "code",
   "execution_count": 9,
   "metadata": {},
   "outputs": [
    {
     "data": {
      "text/plain": [
       "15"
      ]
     },
     "execution_count": 9,
     "metadata": {},
     "output_type": "execute_result"
    }
   ],
   "source": [
    "angka"
   ]
  },
  {
   "cell_type": "code",
   "execution_count": 13,
   "metadata": {},
   "outputs": [
    {
     "data": {
      "text/plain": [
       "False"
      ]
     },
     "execution_count": 13,
     "metadata": {},
     "output_type": "execute_result"
    }
   ],
   "source": [
    "5 == 10"
   ]
  },
  {
   "cell_type": "code",
   "execution_count": 14,
   "metadata": {},
   "outputs": [
    {
     "data": {
      "text/plain": [
       "True"
      ]
     },
     "execution_count": 14,
     "metadata": {},
     "output_type": "execute_result"
    }
   ],
   "source": [
    "angka == 15"
   ]
  },
  {
   "cell_type": "code",
   "execution_count": 15,
   "metadata": {},
   "outputs": [
    {
     "name": "stdout",
     "output_type": "stream",
     "text": [
      "12 lebih besar dari 10\n"
     ]
    }
   ],
   "source": [
    "angka = 12\n",
    "print(f\"{angka} lebih besar dari 10\")"
   ]
  },
  {
   "cell_type": "code",
   "execution_count": 25,
   "metadata": {},
   "outputs": [
    {
     "name": "stdout",
     "output_type": "stream",
     "text": [
      "7 lebih kecil dari 10\n",
      "ini diluar if\n"
     ]
    }
   ],
   "source": [
    "angka = 7\n",
    "if angka > 10:\n",
    "    print (f\"{angka} lebih besar dari 10\")\n",
    "    print(\"ini masih didalam kondisi if\")\n",
    "else :\n",
    "    print(f\"{angka} lebih kecil dari 10\") \n",
    "print (\"ini diluar if\")"
   ]
  },
  {
   "cell_type": "markdown",
   "metadata": {},
   "source": [
    "### Looping"
   ]
  },
  {
   "cell_type": "code",
   "execution_count": 26,
   "metadata": {},
   "outputs": [
    {
     "name": "stdout",
     "output_type": "stream",
     "text": [
      "halo a, apa kabar ?\n"
     ]
    }
   ],
   "source": [
    "print(\"halo a, apa kabar ?\")"
   ]
  },
  {
   "cell_type": "code",
   "execution_count": null,
   "metadata": {},
   "outputs": [],
   "source": [
    "list_makanan = []\n",
    "makanan = \"\"\n",
    "while makanan != \"cukup\""
   ]
  },
  {
   "cell_type": "code",
   "execution_count": 27,
   "metadata": {},
   "outputs": [
    {
     "name": "stdout",
     "output_type": "stream",
     "text": [
      "7 x 1 = 7\n"
     ]
    }
   ],
   "source": [
    "#tabel perkalian\n",
    "print (f\"{7} x {1} = {7*1}\")"
   ]
  },
  {
   "cell_type": "code",
   "execution_count": 28,
   "metadata": {},
   "outputs": [
    {
     "name": "stdout",
     "output_type": "stream",
     "text": [
      "7 x 1 = 7\n",
      "7 x 2 = 14\n",
      "7 x 3 = 21\n",
      "7 x 4 = 28\n",
      "7 x 5 = 35\n",
      "7 x 6 = 42\n",
      "7 x 7 = 49\n",
      "7 x 8 = 56\n",
      "7 x 9 = 63\n",
      "7 x 10 = 70\n"
     ]
    }
   ],
   "source": [
    "i = 1\n",
    "while i <= 10:\n",
    "    print(f\"{7} x {i} = {7*i}\")\\\n",
    "    # i = i + 1\n",
    "    i += 1"
   ]
  },
  {
   "cell_type": "code",
   "execution_count": 31,
   "metadata": {},
   "outputs": [
    {
     "name": "stdout",
     "output_type": "stream",
     "text": [
      "saya jual pepaya\n",
      "saya jual mangga\n",
      "saya jual pisang\n",
      "saya jual jambu\n"
     ]
    }
   ],
   "source": [
    "# for loop\n",
    "buahbuahan = [\"pepaya\", \"mangga\", \"pisang\", \"jambu\"]\n",
    "for item in buahbuahan:\n",
    "    print(f\"saya jual {item}\")"
   ]
  },
  {
   "cell_type": "code",
   "execution_count": 38,
   "metadata": {},
   "outputs": [
    {
     "name": "stdout",
     "output_type": "stream",
     "text": [
      " 7 x 1 = 7\n",
      " 7 x 2 = 14\n",
      " 7 x 3 = 21\n",
      " 7 x 4 = 28\n",
      " 7 x 5 = 35\n",
      " 7 x 6 = 42\n",
      " 7 x 7 = 49\n",
      " 7 x 8 = 56\n",
      " 7 x 9 = 63\n",
      " 7 x 10 = 70\n"
     ]
    }
   ],
   "source": [
    "for i in range(1,11,1):\n",
    "    print(f\" {7} x {i} = {7*i}\")"
   ]
  },
  {
   "cell_type": "code",
   "execution_count": 37,
   "metadata": {},
   "outputs": [
    {
     "data": {
      "text/plain": [
       "[1, 2, 3, 4, 5, 6, 7, 8, 9, 10]"
      ]
     },
     "execution_count": 37,
     "metadata": {},
     "output_type": "execute_result"
    }
   ],
   "source": [
    "list(range(1,11,1))"
   ]
  },
  {
   "cell_type": "code",
   "execution_count": 40,
   "metadata": {},
   "outputs": [],
   "source": [
    "from random import randint"
   ]
  },
  {
   "cell_type": "code",
   "execution_count": 41,
   "metadata": {},
   "outputs": [
    {
     "data": {
      "text/plain": [
       "2"
      ]
     },
     "execution_count": 41,
     "metadata": {},
     "output_type": "execute_result"
    }
   ],
   "source": [
    "randint (1, 10)"
   ]
  },
  {
   "cell_type": "code",
   "execution_count": 44,
   "metadata": {},
   "outputs": [
    {
     "name": "stdout",
     "output_type": "stream",
     "text": [
      "angka terlalu kecil\n",
      "angka terlalu kecil\n",
      "angka terlalu kecil\n",
      "anda kalah\n"
     ]
    }
   ],
   "source": [
    "angka_komputer = randint(1, 10)\n",
    "angka_tebakan = 0\n",
    "kesempatan = 3\n",
    "while angka_tebakan != angka_komputer and kesempatan > 0:\n",
    "    angka_tebakan = input(\"masukkan tebakkan anda:\")\n",
    "    angka_tebakan = int(angka_tebakan)\n",
    "    if angka_tebakan < angka_komputer:\n",
    "        print(\"angka terlalu kecil\")\n",
    "        kesempatan -= 1\n",
    "    elif angka_tebakan > angka_komputer:\n",
    "        print(\"angka terlalu besar\")\n",
    "        kesempatan -= 1\n",
    "    else:\n",
    "        print (\"selamat anda menebak dengan benar\")\n",
    "        print(f\"angka komputer adalah {angka_komputer}\")\n",
    "        print(f\"anda punya {kesempatan-1} kesempatan tersisa\")\n",
    "    if kesempatan == 0:\n",
    "        print(\"anda kalah\")        "
   ]
  }
 ],
 "metadata": {
  "interpreter": {
   "hash": "0ec543718309cad9c38d36950d3cbd307e42156359ab44a1b9c0c3c6c013c3a7"
  },
  "kernelspec": {
   "display_name": "Python 3.9.7 64-bit ('base': conda)",
   "language": "python",
   "name": "python3"
  },
  "language_info": {
   "codemirror_mode": {
    "name": "ipython",
    "version": 3
   },
   "file_extension": ".py",
   "mimetype": "text/x-python",
   "name": "python",
   "nbconvert_exporter": "python",
   "pygments_lexer": "ipython3",
   "version": "3.9.7"
  },
  "orig_nbformat": 4
 },
 "nbformat": 4,
 "nbformat_minor": 2
}
