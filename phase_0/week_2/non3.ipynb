{
 "cells": [
  {
   "cell_type": "code",
   "execution_count": 17,
   "metadata": {},
   "outputs": [],
   "source": [
    "import numpy as np\n"
   ]
  },
  {
   "cell_type": "code",
   "execution_count": 18,
   "metadata": {},
   "outputs": [],
   "source": [
    "a = [17,22,19]\n",
    "b = [10,20,11]\n",
    "c = [5,12,9]"
   ]
  },
  {
   "cell_type": "code",
   "execution_count": 19,
   "metadata": {},
   "outputs": [],
   "source": [
    "vect_a = np.array(a)\n",
    "vect_b = np.array(b)\n",
    "vect_c = np.array(c)"
   ]
  },
  {
   "cell_type": "code",
   "execution_count": 20,
   "metadata": {},
   "outputs": [
    {
     "name": "stdout",
     "output_type": "stream",
     "text": [
      "vector a : [17 22 19]\n"
     ]
    }
   ],
   "source": [
    "vect_a = np.array(a)\n",
    "print(\"vector a :\", vect_a)"
   ]
  },
  {
   "cell_type": "code",
   "execution_count": 21,
   "metadata": {},
   "outputs": [
    {
     "name": "stdout",
     "output_type": "stream",
     "text": [
      "vector a + vector b = [27 42 30]\n"
     ]
    }
   ],
   "source": [
    "vect_a + vect_b\n",
    "print(\"vector a + vector b =\",vect_a + vect_b)"
   ]
  },
  {
   "cell_type": "code",
   "execution_count": 22,
   "metadata": {},
   "outputs": [
    {
     "name": "stdout",
     "output_type": "stream",
     "text": [
      "vector b - vector c = [5 8 2]\n"
     ]
    }
   ],
   "source": [
    "vect_b - vect_c\n",
    "print(\"vector b - vector c =\",vect_b - vect_c)"
   ]
  },
  {
   "cell_type": "code",
   "execution_count": 25,
   "metadata": {},
   "outputs": [
    {
     "name": "stdout",
     "output_type": "stream",
     "text": [
      "dot product vector a * vector b =  520\n"
     ]
    }
   ],
   "source": [
    "vect_a.dot(vect_c)\n",
    "print(\"dot product vector a * vector b = \",vect_a.dot(vect_c) )"
   ]
  },
  {
   "cell_type": "code",
   "execution_count": 26,
   "metadata": {},
   "outputs": [
    {
     "name": "stdout",
     "output_type": "stream",
     "text": [
      "vector a * vector b = [170 440 209]\n"
     ]
    }
   ],
   "source": [
    "vect_a * vect_b\n",
    "print(\"vector a * vector b =\", vect_a * vect_b)"
   ]
  },
  {
   "cell_type": "code",
   "execution_count": 35,
   "metadata": {},
   "outputs": [
    {
     "name": "stdout",
     "output_type": "stream",
     "text": [
      "norm A =  33.67491648096547\n"
     ]
    }
   ],
   "source": [
    "np.linalg.norm(vect_a)\n",
    "print(\"norm A = \", np.linalg.norm(vect_a))"
   ]
  },
  {
   "cell_type": "code",
   "execution_count": 37,
   "metadata": {},
   "outputs": [
    {
     "name": "stdout",
     "output_type": "stream",
     "text": [
      "Cos Theta      :  0.9759590023331435\n",
      "Radians        :  0.21971776576153962\n",
      "Degree/Derajat :  12.588900662180242\n"
     ]
    }
   ],
   "source": [
    "# vect_a . vect_b = ||vect_a|| * ||vect_b|| * cos_theta\n",
    "result_dot_product = vect_a.dot(vect_b)\n",
    "cos_theta = result_dot_product / (np.linalg.norm(vect_a) * np.linalg.norm(vect_b))\n",
    "\n",
    "# Mengubah cos_theta ke dalam radians untuk dicari derajat sudutnya\n",
    "radians = np.arccos(cos_theta)\n",
    "\n",
    "# Mengubah radians untuk dicari derajat sudutnya\n",
    "degree = np.degrees(radians)\n",
    "\n",
    "print('Cos Theta      : ', cos_theta)\n",
    "print('Radians        : ', radians)\n",
    "print('Degree/Derajat : ', degree)"
   ]
  }
 ],
 "metadata": {
  "interpreter": {
   "hash": "0ec543718309cad9c38d36950d3cbd307e42156359ab44a1b9c0c3c6c013c3a7"
  },
  "kernelspec": {
   "display_name": "Python 3.9.7 64-bit ('base': conda)",
   "language": "python",
   "name": "python3"
  },
  "language_info": {
   "codemirror_mode": {
    "name": "ipython",
    "version": 3
   },
   "file_extension": ".py",
   "mimetype": "text/x-python",
   "name": "python",
   "nbconvert_exporter": "python",
   "pygments_lexer": "ipython3",
   "version": "3.9.7"
  },
  "orig_nbformat": 4
 },
 "nbformat": 4,
 "nbformat_minor": 2
}
